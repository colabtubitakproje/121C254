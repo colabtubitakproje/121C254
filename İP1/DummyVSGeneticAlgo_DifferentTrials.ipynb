{
 "cells": [
  {
   "cell_type": "code",
   "execution_count": 1,
   "id": "6109d03e-cfef-4ebd-9522-38633e6e0b93",
   "metadata": {},
   "outputs": [],
   "source": [
    "from skopt.space import Real\n",
    "from skopt import gp_minimize, dummy_minimize\n",
    "from skopt.plots import plot_convergence\n",
    "import matplotlib.pyplot as plt\n",
    "import numpy as np\n",
    "import pygad\n",
    "import wandb\n",
    "from joblib import Parallel, delayed"
   ]
  },
  {
   "cell_type": "code",
   "execution_count": 2,
   "id": "5d7a54b5-ae69-438c-8d6a-f0b197ec8d9d",
   "metadata": {},
   "outputs": [],
   "source": [
    "class SMEnvBayesOpt:\n",
    "    def __init__(self, snrDb, num_iters, N=2,  M=2, fc=2.4e9, modOrder=16, state_size = 8, action_size = 8, Lt = 3, Lr = 3, kappa=1):\n",
    "        self.total_bits = np.log2(N) + np.log2(modOrder)\n",
    "        self.state_size = N * M * 2\n",
    "        self.action_size = (N + M) * 2\n",
    "        self.lambda_ = 3e8 / fc\n",
    "        self.kappa = kappa\n",
    "        self.d_ant = self.lambda_/2\n",
    "        self.numTx = N\n",
    "        self.numRx = M\n",
    "        self.modOrder = modOrder\n",
    "        self.num_iters = num_iters\n",
    "        self.snrDb = snrDb\n",
    "        self.Lt = Lt\n",
    "        self.Lr = Lr\n",
    "        self.max_action = 1.0 * self.d_ant\n",
    "        self.theta_t = np.random.uniform(0, np.pi, Lt)\n",
    "        self.phi_t = np.random.uniform(0, np.pi, Lt)\n",
    "        self.theta_r = np.random.uniform(0, np.pi, Lr)\n",
    "        self.phi_r = np.random.uniform(0, np.pi, Lr)\n",
    "        self.reward_range = 0\n",
    "        var11 = kappa / (kappa + 1)\n",
    "        sigma_path_response = np.zeros((Lr, Lt), dtype=complex)\n",
    "\n",
    "        sigma_path_response[0, 0] = np.sqrt(var11) * (np.random.randn() + 1j * np.random.randn())\n",
    "        varpp = 1 / ((kappa + 1) * (Lr - 1))\n",
    "\n",
    "        for p in range(1, Lr):\n",
    "            sigma_path_response[p, p] = np.sqrt(varpp) * (np.random.randn() + 1j * np.random.randn())\n",
    "        self.sigma_path_response = sigma_path_response\n",
    "\n",
    "        self.reference_pos = np.random.uniform(-self.max_action, self.max_action, self.action_size)\n",
    "        self.ref_t_tilde = self.reference_pos[:self.numTx * 2].reshape(2, -1, order='F')\n",
    "        self.ref_r_tilde = self.reference_pos[self.numTx * 2:].reshape(2, -1, order='F')\n",
    "        self.allSymbols = self.qamsymbols(modOrder)  # QAM symbols\n",
    "\n",
    "\n",
    "\n",
    "    def reset(self):\n",
    "\n",
    "        self.theta_t = np.random.uniform(0, np.pi, self.Lt)\n",
    "        self.phi_t = np.random.uniform(0, np.pi, self.Lt)\n",
    "        self.theta_r = np.random.uniform(0, np.pi, self.Lr)\n",
    "        self.phi_r = np.random.uniform(0, np.pi, self.Lr)\n",
    "        var11 = self.kappa / (self.kappa + 1)\n",
    "        sigma_path_response = np.zeros((self.Lr, self.Lt), dtype=complex)\n",
    "\n",
    "        sigma_path_response[0, 0] = np.sqrt(var11) * (np.random.randn() + 1j * np.random.randn())\n",
    "        varpp = 1 / ((self.kappa + 1) * (self.Lr - 1))\n",
    "\n",
    "        for p in range(1, self.Lr):\n",
    "            sigma_path_response[p, p] = np.sqrt(varpp) * (np.random.randn() + 1j * np.random.randn())\n",
    "        self.sigma_path_response = sigma_path_response\n",
    "\n",
    "\n",
    "        observation = self.reference_pos\n",
    "        return observation;\n",
    "\n",
    "    def step(self, action):\n",
    "        # observarion_ : next state, type is numpy array (8,)\n",
    "        # reward : np.float64(reward)\n",
    "        # action : numpy array (8,)\n",
    "        reward = 0\n",
    "        selected_t_tilde = action[:self.numTx * 2].reshape(2, -1, order='F')\n",
    "        selected_r_tilde = action[self.numTx * 2:].reshape(2, -1, order='F')\n",
    "        ber, berMod, berAntenna, numErrors, numBits, H_curr = self.simulate_spatial_modulation_rayleigh_ml(self.numTx, self.numRx, self.modOrder, self.num_iters, self.snrDb, selected_t_tilde, selected_r_tilde, self.Lt, self.Lr, self.lambda_, self.kappa, self.theta_t, self.phi_t, self.theta_r, self.phi_r, self.sigma_path_response)\n",
    "\n",
    "        observation_ = action\n",
    "\n",
    "        done = False\n",
    "        info = (ber, berMod, berAntenna, numErrors, numBits)\n",
    "        obs_tuple = (observation_, ber, done, info)\n",
    "        return obs_tuple\n",
    "\n",
    "    def simulate_spatial_modulation_rayleigh_ml(self,numTx, numRx, modOrder, num_iters, snrDb, t_tilde, r_tilde, Lt, Lr, lambda_, kappa, theta_t, phi_t, theta_r, phi_r, sigma_path_response):\n",
    "\n",
    "        #TESTED : PASSED\n",
    "        numBitsPerSymbol = int(np.log2(modOrder) + np.log2(numTx))\n",
    "\n",
    "        bitsAll = np.array([])\n",
    "        bitsAntennaAll = np.array([])\n",
    "        bitsModAll = np.array([])\n",
    "        rxBitsAll = np.array([])\n",
    "        rxBitsAntennaAll = np.array([])\n",
    "        rxBitsModAll = np.array([])\n",
    "\n",
    "        allSymbols = self.qamsymbols(modOrder)  # QAM symbols\n",
    "        allBitsMod = np.array([list(map(int, list(format(i, f'0{int(np.log2(modOrder))}b')))) for i in range(modOrder)])\n",
    "        H = self.get_channel(numTx, numRx, t_tilde, r_tilde, Lt, Lr, lambda_, kappa, theta_t, phi_t, theta_r, phi_r, sigma_path_response)\n",
    "        bits = np.random.randint(0, 2, (num_iters, numBitsPerSymbol))\n",
    "\n",
    "        # Split bits into bitsAntenna and bitsMod\n",
    "        bitsAntenna = bits[:, :int(np.log2(numTx))]\n",
    "        bitsMod = bits[:, int(np.log2(numTx)):]\n",
    "\n",
    "        # Convert bits to indices\n",
    "        bitsAntenna_powers = 2 ** np.arange(bitsAntenna.shape[1]-1, -1, -1)\n",
    "        antennaIndex = bitsAntenna.dot(bitsAntenna_powers).astype(int)\n",
    "\n",
    "        bitsMod_powers = 2 ** np.arange(bitsMod.shape[1]-1, -1, -1)\n",
    "        symbolIndex = bitsMod.dot(bitsMod_powers).astype(int)\n",
    "\n",
    "        # Map indices to symbols\n",
    "        symbols = allSymbols[symbolIndex]\n",
    "\n",
    "        # Create txSignal array\n",
    "        txSignal = np.zeros((num_iters, numTx), dtype=complex)\n",
    "        txSignal[np.arange(num_iters), antennaIndex] = symbols\n",
    "\n",
    "        # Compute rxSignal\n",
    "        rxSignal = txSignal @ H.T  # Shape: (num_iters, numRx)\n",
    "\n",
    "        # Add noise to rxSignal\n",
    "        noisePower = 10 ** (-snrDb / 10)\n",
    "        noise = np.sqrt(noisePower / 2) * (np.random.randn(num_iters, numRx) + 1j * np.random.randn(num_iters, numRx))\n",
    "        rxSignal += noise\n",
    "\n",
    "        # Initialize arrays to store received bits\n",
    "        rxBitsAll = []\n",
    "        rxBitsAntennaAll = []\n",
    "        rxBitsModAll = []\n",
    "\n",
    "        # Process rxSignal to get received bits\n",
    "        for i in range(num_iters):\n",
    "            rxBits, rxBitsMod, rxBitsAntenna = self.ml_detect(\n",
    "                rxSignal[i],\n",
    "                H,\n",
    "                numTx,\n",
    "                modOrder,\n",
    "                allSymbols,\n",
    "                allBitsMod\n",
    "            )\n",
    "            rxBitsAll.append(rxBits)\n",
    "            rxBitsAntennaAll.append(rxBitsAntenna)\n",
    "            rxBitsModAll.append(rxBitsMod)\n",
    "\n",
    "        # Convert lists to arrays\n",
    "        rxBitsAll = np.concatenate(rxBitsAll)\n",
    "        rxBitsAntennaAll = np.concatenate(rxBitsAntennaAll)\n",
    "        rxBitsModAll = np.concatenate(rxBitsModAll)\n",
    "\n",
    "        # Original bits (transmitted bits)\n",
    "        bitsAll = bits.flatten()\n",
    "        bitsAntennaAll = bitsAntenna.flatten()\n",
    "        bitsModAll = bitsMod.flatten()\n",
    "\n",
    "        numErrors = np.sum(bitsAll != rxBitsAll)\n",
    "        numErrorsMod = np.sum(bitsModAll != rxBitsModAll)\n",
    "        numErrorsAntenna = np.sum(bitsAntennaAll != rxBitsAntennaAll)\n",
    "\n",
    "        numBits = len(bitsAll)\n",
    "        numBitsMod = len(bitsModAll)\n",
    "        numBitsAntenna = len(bitsAntennaAll)\n",
    "\n",
    "        ber = numErrors / numBits\n",
    "        berMod = numErrorsMod / numBitsMod\n",
    "        berAntenna = numErrorsAntenna / numBitsAntenna\n",
    "\n",
    "        #print(f'BER: {ber}')\n",
    "        #print(f'Total Errors: {numErrors} out of {numBits} bits')\n",
    "\n",
    "        return ber, berMod, berAntenna, numErrors, numBits, H\n",
    "\n",
    "    def get_channel(self, N, M, t_tilde, r_tilde, Lt, Lr, lambda_, kappa, theta_t, phi_t, theta_r, phi_r, sigma_path_response):\n",
    "        # TESTED : PASSED\n",
    "        rho_t = np.zeros((Lt, N), dtype=float)\n",
    "        phase_diff_t = np.zeros((Lt, N), dtype=float)\n",
    "        G = np.zeros((Lt, N), dtype=complex)\n",
    "        for t in range(N):\n",
    "            g = np.zeros(Lt, dtype=complex)\n",
    "            for p in range(Lt):\n",
    "                x_t = t_tilde[0, t]\n",
    "                y_t = t_tilde[1, t]\n",
    "\n",
    "                thetaP_t = theta_t[p]\n",
    "                phiP_t = phi_t[p]\n",
    "\n",
    "                rho_t[p, t] = (x_t * np.sin(thetaP_t) * np.cos(phiP_t) + y_t * np.cos(thetaP_t)).item(0)\n",
    "                phase_diff_t[p, t] = 2 * np.pi * rho_t[p, t] / lambda_\n",
    "\n",
    "                g[p] = np.exp(1j * phase_diff_t[p, t])\n",
    "\n",
    "            G[:, t] = np.transpose(g)\n",
    "\n",
    "        rho_r = np.zeros((Lr, M), dtype=float)\n",
    "        phase_diff_r = np.zeros((Lr, M), dtype=float)\n",
    "        F = np.zeros((Lr, M), dtype=complex)\n",
    "        for r in range(M):\n",
    "            f = np.zeros(Lr, dtype=complex)\n",
    "            for q in range(Lr):\n",
    "                x_r = r_tilde[0, r]\n",
    "                y_r = r_tilde[1, r]\n",
    "\n",
    "                thetaQ_r = theta_r[q]\n",
    "                phiQ_r = phi_r[q]\n",
    "\n",
    "                rho_r[q, r] = (x_r * np.sin(thetaQ_r) * np.cos(phiQ_r) + y_r * np.cos(thetaQ_r)).item(0)\n",
    "                phase_diff_r[q, r] = 2 * np.pi * rho_r[q, r] / lambda_\n",
    "\n",
    "                f[q] = np.exp(1j * phase_diff_r[q, r])\n",
    "\n",
    "            F[:, r] = np.transpose(f)\n",
    "\n",
    "        H = np.conjugate(np.transpose(F)) @ sigma_path_response @ G\n",
    "        return H\n",
    "\n",
    "    def ml_detect(self, rxSignal, H, numTx, modOrder, allSymbols, allBitsMod):\n",
    "        # Number of possible combinations\n",
    "        numCombinations = numTx * modOrder\n",
    "\n",
    "        # Generate all possible antenna indices and symbol indices\n",
    "        txIdxs = np.repeat(np.arange(numTx), modOrder)\n",
    "        symIdxs = np.tile(np.arange(modOrder), numTx)\n",
    "\n",
    "        # Create test signals for all combinations\n",
    "        testSignals = np.zeros((numCombinations, numTx), dtype=complex)\n",
    "        testSignals[np.arange(numCombinations), txIdxs] = allSymbols[symIdxs]\n",
    "\n",
    "        # Compute estimated received signals for all combinations\n",
    "        estimatedRxSignals = testSignals @ H.T  # Shape: (numCombinations, numRx)\n",
    "\n",
    "        # Compute distances between the received signal and all estimated signals\n",
    "        differences = estimatedRxSignals - rxSignal[np.newaxis, :]\n",
    "        distances_squared = np.sum(np.abs(differences) ** 2, axis=1)\n",
    "\n",
    "        # Find the combination with the minimum distance\n",
    "        min_idx = np.argmin(distances_squared)\n",
    "        best_txIdx = txIdxs[min_idx]\n",
    "        best_symIdx = symIdxs[min_idx]\n",
    "\n",
    "        # Retrieve the bits corresponding to the detected antenna index and symbol\n",
    "        rxBitsMod = allBitsMod[best_symIdx]\n",
    "        bits_per_antenna = int(np.log2(numTx))\n",
    "        rxBitsAntenna = np.array(list(np.binary_repr(best_txIdx, width=bits_per_antenna)), dtype=int)\n",
    "        rxBits = np.concatenate((rxBitsAntenna, rxBitsMod))\n",
    "\n",
    "        return rxBits, rxBitsMod, rxBitsAntenna\n",
    "    def qamsymbols(self, n):\n",
    "        # returns exactly MATLAB: qammod(0:modOrder-1, modOrder, 'UnitAveragePower', true)\n",
    "        if n == 16:\n",
    "            return np.array([-0.948683298050514 + 1j*0.948683298050514,\n",
    "            -0.948683298050514 + 1j*0.316227766016838,\t-0.948683298050514 - 1j*0.948683298050514,\t-0.948683298050514 - 1j*0.316227766016838\t,\n",
    "            -0.316227766016838 + 1j*0.948683298050514,\t-0.316227766016838 + 1j*0.316227766016838,\t-0.316227766016838 - 1j*0.948683298050514,\n",
    "            -0.316227766016838 - 1j*0.316227766016838,\t0.948683298050514 + 1j*0.948683298050514,\t0.948683298050514 + 1j*0.316227766016838\t,\n",
    "            0.948683298050514 - 1j*0.948683298050514,\t0.948683298050514 - 1j*0.316227766016838,\t0.316227766016838 + 1j*0.948683298050514\t,\n",
    "            0.316227766016838 + 1j*0.316227766016838,\t0.316227766016838 - 1j*0.948683298050514,\t0.316227766016838 - 1j*0.316227766016838])\n",
    "        else:\n",
    "            raise ValueError(\"Not available\")\n",
    "\n",
    "    def get_min_ed(self, H, allSymbols, HcolIndices):\n",
    "        H_dist_arr = np.zeros((HcolIndices.shape[0], len(allSymbols)**2))\n",
    "\n",
    "        for k in range(HcolIndices.shape[0]):\n",
    "            index = 0\n",
    "            for s1 in range(len(allSymbols)):\n",
    "                for s2 in range(len(allSymbols)):\n",
    "                    # Calculate the norm between combinations of h1*s1 and h2*s2\n",
    "                    H_dist_arr[k, index] = np.linalg.norm((H[:, HcolIndices[k, 0]-1] * allSymbols[s1]) - (H[:, HcolIndices[k, 1]-1] * allSymbols[s2]))\n",
    "                    index += 1\n",
    "\n",
    "        decision_metric = np.min(H_dist_arr[H_dist_arr != 0])\n",
    "        return decision_metric"
   ]
  },
  {
   "cell_type": "code",
   "execution_count": 3,
   "id": "5ffd6e39-f1f0-4087-81aa-6fe79c526729",
   "metadata": {},
   "outputs": [],
   "source": [
    "def objective_ga(ga_instance, solution, solution_idx):\n",
    "    action = np.array(solution)\n",
    "    obs, ber, done, info = env.step(action)\n",
    "    return -ber # Genetic algorithm maximizes the objective (fitness) function\n",
    "    \n",
    "def objective_dummy(params):\n",
    "    \"\"\"Objective function to be minimized.\"\"\"\n",
    "    action = np.array(params)\n",
    "    obs, ber, done, info = env.step(action)\n",
    "    return ber\n",
    "\n",
    "def create_search_space(env):\n",
    "    search_space = [\n",
    "        Real(-env.max_action, env.max_action, name=f'x{i+1}')\n",
    "        for i in range(env.action_size)\n",
    "    ]\n",
    "    return search_space"
   ]
  },
  {
   "cell_type": "code",
   "execution_count": 4,
   "id": "077ee888-7331-49f8-a1d7-c0458569166f",
   "metadata": {},
   "outputs": [
    {
     "name": "stderr",
     "output_type": "stream",
     "text": [
      "\u001b[34m\u001b[1mwandb\u001b[0m: Currently logged in as: \u001b[33maa-atalayaydin\u001b[0m (\u001b[33maalab-team\u001b[0m) to \u001b[32mhttps://api.wandb.ai\u001b[0m. Use \u001b[1m`wandb login --relogin`\u001b[0m to force relogin\n",
      "\u001b[34m\u001b[1mwandb\u001b[0m: Using wandb-core as the SDK backend.  Please refer to https://wandb.me/wandb-core for more information.\n"
     ]
    },
    {
     "data": {
      "text/html": [
       "Tracking run with wandb version 0.19.5"
      ],
      "text/plain": [
       "<IPython.core.display.HTML object>"
      ]
     },
     "metadata": {},
     "output_type": "display_data"
    },
    {
     "data": {
      "text/html": [
       "Run data is saved locally in <code>/home/aydinatalay/Desktop/BayesOpt_MovableAnt/wandb/run-20250528_014616-36iguutc</code>"
      ],
      "text/plain": [
       "<IPython.core.display.HTML object>"
      ]
     },
     "metadata": {},
     "output_type": "display_data"
    },
    {
     "data": {
      "text/html": [
       "Syncing run <strong><a href='https://wandb.ai/aalab-team/ma-with-dummyvsga-difftrials/runs/36iguutc' target=\"_blank\">helpful-bird-16</a></strong> to <a href='https://wandb.ai/aalab-team/ma-with-dummyvsga-difftrials' target=\"_blank\">Weights & Biases</a> (<a href='https://wandb.me/developer-guide' target=\"_blank\">docs</a>)<br>"
      ],
      "text/plain": [
       "<IPython.core.display.HTML object>"
      ]
     },
     "metadata": {},
     "output_type": "display_data"
    },
    {
     "data": {
      "text/html": [
       " View project at <a href='https://wandb.ai/aalab-team/ma-with-dummyvsga-difftrials' target=\"_blank\">https://wandb.ai/aalab-team/ma-with-dummyvsga-difftrials</a>"
      ],
      "text/plain": [
       "<IPython.core.display.HTML object>"
      ]
     },
     "metadata": {},
     "output_type": "display_data"
    },
    {
     "data": {
      "text/html": [
       " View run at <a href='https://wandb.ai/aalab-team/ma-with-dummyvsga-difftrials/runs/36iguutc' target=\"_blank\">https://wandb.ai/aalab-team/ma-with-dummyvsga-difftrials/runs/36iguutc</a>"
      ],
      "text/plain": [
       "<IPython.core.display.HTML object>"
      ]
     },
     "metadata": {},
     "output_type": "display_data"
    },
    {
     "name": "stdout",
     "output_type": "stream",
     "text": [
      "0 dB SNR\n",
      "GA  gens= 10, pop= 10  |  dummy BER=2.656e-01  |  GA BER=1.599e-01\n",
      "4 dB SNR\n",
      "GA  gens= 10, pop= 10  |  dummy BER=1.793e-01  |  GA BER=7.696e-02\n",
      "8 dB SNR\n",
      "GA  gens= 10, pop= 10  |  dummy BER=9.992e-02  |  GA BER=2.463e-02\n",
      "12 dB SNR\n",
      "GA  gens= 10, pop= 10  |  dummy BER=4.442e-02  |  GA BER=4.869e-03\n",
      "16 dB SNR\n",
      "GA  gens= 10, pop= 10  |  dummy BER=1.660e-02  |  GA BER=5.350e-04\n",
      "20 dB SNR\n",
      "GA  gens= 10, pop= 10  |  dummy BER=5.549e-03  |  GA BER=4.743e-05\n"
     ]
    },
    {
     "data": {
      "text/html": [],
      "text/plain": [
       "<IPython.core.display.HTML object>"
      ]
     },
     "metadata": {},
     "output_type": "display_data"
    },
    {
     "data": {
      "text/html": [
       "<br>    <style><br>        .wandb-row {<br>            display: flex;<br>            flex-direction: row;<br>            flex-wrap: wrap;<br>            justify-content: flex-start;<br>            width: 100%;<br>        }<br>        .wandb-col {<br>            display: flex;<br>            flex-direction: column;<br>            flex-basis: 100%;<br>            flex: 1;<br>            padding: 10px;<br>        }<br>    </style><br><div class=\"wandb-row\"><div class=\"wandb-col\"><h3>Run history:</h3><br/><table class=\"wandb\"><tr><td>dummy_ber</td><td>█▆▄▂▁▁</td></tr><tr><td>ga_ber</td><td>█▄▂▁▁▁</td></tr></table><br/></div><div class=\"wandb-col\"><h3>Run summary:</h3><br/><table class=\"wandb\"><tr><td>dummy_ber</td><td>0.00555</td></tr><tr><td>ga_ber</td><td>5e-05</td></tr></table><br/></div></div>"
      ],
      "text/plain": [
       "<IPython.core.display.HTML object>"
      ]
     },
     "metadata": {},
     "output_type": "display_data"
    },
    {
     "data": {
      "text/html": [
       " View run <strong style=\"color:#cdcd00\">helpful-bird-16</strong> at: <a href='https://wandb.ai/aalab-team/ma-with-dummyvsga-difftrials/runs/36iguutc' target=\"_blank\">https://wandb.ai/aalab-team/ma-with-dummyvsga-difftrials/runs/36iguutc</a><br> View project at: <a href='https://wandb.ai/aalab-team/ma-with-dummyvsga-difftrials' target=\"_blank\">https://wandb.ai/aalab-team/ma-with-dummyvsga-difftrials</a><br>Synced 5 W&B file(s), 0 media file(s), 0 artifact file(s) and 0 other file(s)"
      ],
      "text/plain": [
       "<IPython.core.display.HTML object>"
      ]
     },
     "metadata": {},
     "output_type": "display_data"
    },
    {
     "data": {
      "text/html": [
       "Find logs at: <code>./wandb/run-20250528_014616-36iguutc/logs</code>"
      ],
      "text/plain": [
       "<IPython.core.display.HTML object>"
      ]
     },
     "metadata": {},
     "output_type": "display_data"
    },
    {
     "data": {
      "text/html": [
       "Tracking run with wandb version 0.19.5"
      ],
      "text/plain": [
       "<IPython.core.display.HTML object>"
      ]
     },
     "metadata": {},
     "output_type": "display_data"
    },
    {
     "data": {
      "text/html": [
       "Run data is saved locally in <code>/home/aydinatalay/Desktop/BayesOpt_MovableAnt/wandb/run-20250529_043659-ac3ewqq9</code>"
      ],
      "text/plain": [
       "<IPython.core.display.HTML object>"
      ]
     },
     "metadata": {},
     "output_type": "display_data"
    },
    {
     "data": {
      "text/html": [
       "Syncing run <strong><a href='https://wandb.ai/aalab-team/ma-with-dummyvsga-difftrials/runs/ac3ewqq9' target=\"_blank\">comic-salad-17</a></strong> to <a href='https://wandb.ai/aalab-team/ma-with-dummyvsga-difftrials' target=\"_blank\">Weights & Biases</a> (<a href='https://wandb.me/developer-guide' target=\"_blank\">docs</a>)<br>"
      ],
      "text/plain": [
       "<IPython.core.display.HTML object>"
      ]
     },
     "metadata": {},
     "output_type": "display_data"
    },
    {
     "data": {
      "text/html": [
       " View project at <a href='https://wandb.ai/aalab-team/ma-with-dummyvsga-difftrials' target=\"_blank\">https://wandb.ai/aalab-team/ma-with-dummyvsga-difftrials</a>"
      ],
      "text/plain": [
       "<IPython.core.display.HTML object>"
      ]
     },
     "metadata": {},
     "output_type": "display_data"
    },
    {
     "data": {
      "text/html": [
       " View run at <a href='https://wandb.ai/aalab-team/ma-with-dummyvsga-difftrials/runs/ac3ewqq9' target=\"_blank\">https://wandb.ai/aalab-team/ma-with-dummyvsga-difftrials/runs/ac3ewqq9</a>"
      ],
      "text/plain": [
       "<IPython.core.display.HTML object>"
      ]
     },
     "metadata": {},
     "output_type": "display_data"
    },
    {
     "name": "stdout",
     "output_type": "stream",
     "text": [
      "0 dB SNR\n",
      "GA  gens= 10, pop= 10  |  dummy BER=2.675e-01  |  GA BER=1.634e-01\n",
      "4 dB SNR\n",
      "GA  gens= 10, pop= 10  |  dummy BER=1.802e-01  |  GA BER=7.942e-02\n",
      "8 dB SNR\n",
      "GA  gens= 10, pop= 10  |  dummy BER=9.982e-02  |  GA BER=2.524e-02\n",
      "12 dB SNR\n",
      "GA  gens= 10, pop= 10  |  dummy BER=4.339e-02  |  GA BER=4.954e-03\n",
      "16 dB SNR\n",
      "GA  gens= 10, pop= 10  |  dummy BER=1.676e-02  |  GA BER=6.567e-04\n",
      "20 dB SNR\n",
      "GA  gens= 10, pop= 10  |  dummy BER=5.751e-03  |  GA BER=5.680e-05\n",
      "Final dummy BER plot values: [np.float64(0.265621536), np.float64(0.1793350675), np.float64(0.09991988), np.float64(0.04441639), np.float64(0.01659681866666667), np.float64(0.0055489104), np.float64(0.26746946800000004), np.float64(0.18022014749999998), np.float64(0.09981894799999999), np.float64(0.04339334399999999), np.float64(0.016759501333333333), np.float64(0.005751436800000001)]\n",
      "Final GA BER plot values: [np.float64(0.15989996), np.float64(0.0769616325), np.float64(0.024629332), np.float64(0.004869233), np.float64(0.0005349706666666668), np.float64(4.743e-05), np.float64(0.16339892800000003), np.float64(0.07941964250000001), np.float64(0.025242136000000002), np.float64(0.004954444), np.float64(0.0006566733333333334), np.float64(5.680039999999999e-05)]\n"
     ]
    }
   ],
   "source": [
    "N_CHANNEL_RUNS = 10000\n",
    "SNR_VALS = [0, 4, 8, 12, 16, 20]\n",
    "NUM_ITERS = [5e3, 8e3, 1e4, 2e4, 3e4, 5e4]\n",
    "\n",
    "GA_PARAM_PAIRS = [\n",
    "    (10, 10, 2/8),\n",
    "    (10, 10, 5/8)\n",
    "]\n",
    "\n",
    "ber_plot_dummy = []\n",
    "ber_plot_ga = []\n",
    "\n",
    "def run_optim_single(env, search_space, num_generations: int, sol_per_pop: int, mut_percent: int):\n",
    "    env.reset()  # Make sure each run starts fresh\n",
    "    res = dummy_minimize(\n",
    "            func=objective_dummy,\n",
    "            dimensions=search_space,\n",
    "            n_calls=1\n",
    "        )\n",
    "\n",
    "    # Run GA\n",
    "    ga_instance = pygad.GA(\n",
    "        num_generations=num_generations,\n",
    "        num_parents_mating=int(sol_per_pop/2),\n",
    "        fitness_func=objective_ga,\n",
    "        sol_per_pop=sol_per_pop,\n",
    "        num_genes=env.action_size,               # We have 2 parameters: x1, x2\n",
    "        init_range_low=-env.max_action,\n",
    "        init_range_high=env.max_action,\n",
    "        mutation_percent_genes=mut_percent*100 # 20% of genes mutated\n",
    "    )\n",
    "\n",
    "    ga_instance.run()\n",
    "    best_solution, best_fitness, _ = ga_instance.best_solution()\n",
    "    return {\"dummy_ber\" : res.fun , \"ga_ber\" : -best_fitness}\n",
    "    \n",
    "for num_gens, sol_pop, mut_percent in GA_PARAM_PAIRS:\n",
    "\n",
    "    run = wandb.init(\n",
    "            project = \"ma-with-dummyvsga-difftrials\",\n",
    "            config  = {\n",
    "                \"num tx\"          :2,\n",
    "                \"num rx\"          : 2,\n",
    "                \"mod order\"       : 16,\n",
    "                \"channel runs\"    : N_CHANNEL_RUNS,\n",
    "                \"GA_generations\"  : num_gens,\n",
    "                \"GA_sol_per_pop\"  : sol_pop,\n",
    "                \"GA_mut_percent\"  : mut_percent\n",
    "            },\n",
    "            reinit=True          # allow nesting many runs in one script\n",
    "        )\n",
    "    \n",
    "    \n",
    "    for idx, snr_db in enumerate(SNR_VALS):\n",
    "            \n",
    "        # Create the environment for this SNR\n",
    "        env = SMEnvBayesOpt(snrDb=snr_db, num_iters=int(NUM_ITERS[idx]))\n",
    "        print(snr_db, 'dB SNR')\n",
    "        # Create the search space for this environment\n",
    "        search_space = create_search_space(env)\n",
    "        \n",
    "        # Use joblib to parallelize over N_CHANNEL_RUNS\n",
    "        # n_jobs=-1 uses all available CPU cores\n",
    "        results = Parallel(n_jobs=48)(\n",
    "            delayed(run_optim_single)(env, search_space, num_generations=num_gens, sol_per_pop=sol_pop, mut_percent=mut_percent)\n",
    "            for _ in range(N_CHANNEL_RUNS)\n",
    "        )\n",
    "        # Aggregate\n",
    "        dummy_ber_values = [r['dummy_ber'] for r in results]\n",
    "        ga_ber_values    = [r['ga_ber']    for r in results]\n",
    "    \n",
    "        mean_dummy_ber = np.mean(dummy_ber_values)\n",
    "        mean_ga_ber    = np.mean(ga_ber_values)\n",
    "    \n",
    "        # Store for plotting (create lists beforehand)\n",
    "        ber_plot_dummy.append(mean_dummy_ber)\n",
    "        ber_plot_ga.append(mean_ga_ber)\n",
    "    \n",
    "        # Log & print\n",
    "        wandb.log({\"dummy_ber\": mean_dummy_ber,\n",
    "                   \"ga_ber\"   : mean_ga_ber})\n",
    "        print(f\"GA  gens={num_gens:>3}, pop={sol_pop:>3}  \"\n",
    "              f\"|  dummy BER={mean_dummy_ber:.3e}  \"\n",
    "              f\"|  GA BER={mean_ga_ber:.3e}\")\n",
    "    \n",
    "\n",
    "\n",
    "print(\"Final dummy BER plot values:\", ber_plot_dummy)\n",
    "print(\"Final GA BER plot values:\", ber_plot_ga)"
   ]
  },
  {
   "cell_type": "code",
   "execution_count": null,
   "id": "41878790-3f1b-450a-96e2-e2d943de4c05",
   "metadata": {},
   "outputs": [],
   "source": [
    "print(\"Final dummy BER plot values:\", ber_plot_dummy)\n",
    "print(\"Final GA BER plot values:\", ber_plot_ga)"
   ]
  },
  {
   "cell_type": "code",
   "execution_count": null,
   "id": "a3e66777-378d-43d8-8eff-e87f2171942f",
   "metadata": {},
   "outputs": [],
   "source": []
  }
 ],
 "metadata": {
  "kernelspec": {
   "display_name": "Python 3 (ipykernel)",
   "language": "python",
   "name": "python3"
  },
  "language_info": {
   "codemirror_mode": {
    "name": "ipython",
    "version": 3
   },
   "file_extension": ".py",
   "mimetype": "text/x-python",
   "name": "python",
   "nbconvert_exporter": "python",
   "pygments_lexer": "ipython3",
   "version": "3.11.11"
  }
 },
 "nbformat": 4,
 "nbformat_minor": 5
}
